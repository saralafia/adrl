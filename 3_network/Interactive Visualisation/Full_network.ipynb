{
 "cells": [
  {
   "cell_type": "markdown",
   "metadata": {},
   "source": [
    "## Full Network Interactive Visualisation"
   ]
  },
  {
   "cell_type": "code",
   "execution_count": null,
   "metadata": {},
   "outputs": [],
   "source": [
    "import chart_studio\n",
    "import plotly.graph_objs as go\n",
    "import matplotlib\n",
    "import matplotlib.pyplot as plt\n",
    "import pandas as pd\n",
    "\n",
    "import networkx as nx"
   ]
  },
  {
   "cell_type": "code",
   "execution_count": null,
   "metadata": {},
   "outputs": [],
   "source": [
    "df_top_5 = pd.read_csv('/Users/admin/COSIT_2019/Python_notebooks/DF_TOP_5.csv', delimiter = ',', low_memory=False,  encoding='latin-1')\n",
    "\n",
    "#To use a smaller dataset that loads faster, there are 1000 randomly selected links from DF_TOP_5.csv\n",
    "#df_top_3 = pd.read_csv('DF_TOP_5_10000.csv', delimiter = ',', low_memory=False,  encoding='latin-1')"
   ]
  },
  {
   "cell_type": "code",
   "execution_count": null,
   "metadata": {},
   "outputs": [],
   "source": [
    "df1_top_5 = df_top_5.groupby('identifier')\n",
    "df2_top_5 = df1_top_5.apply(lambda x: x.sample(n=5, replace=True))"
   ]
  },
  {
   "cell_type": "code",
   "execution_count": null,
   "metadata": {},
   "outputs": [],
   "source": [
    "val_map_col = {'Anthropology': '#bff7cd',\n",
    "           'Applied Maths': '#134fd6',\n",
    "           'Art History': '#00a57a',\n",
    "           'Biomolecular Science and Engineering': '#4b32b4',\n",
    "           'Chemical Engineering': '#8ad920', \n",
    "           'Chemistry:': '#d1e4ed', \n",
    "           'Chemistry and Biochemistry': '#b41956', \n",
    "           'Chicana and Chicano Studies':'#569831',\n",
    "           'Classics': '#e72c89', \n",
    "           'Communication': '#68c7db', \n",
    "           'Comparative Literature': '#7c4736', \n",
    "           'Computer Science': '#5995bd',\n",
    "           'Computer Science - Engineering': '#5995bd',\n",
    "           'Counseling, Clinical and School Psychology': '#b1b7dc',\n",
    "           'Department': '#66528a',\n",
    "           'Department of Economics': '#66528a',\n",
    "           'Dramatic Art': '#bdff2d',\n",
    "           'Earth Science': '#162376',\n",
    "           'East Asian Languages and Cultural Studies': '#b80fde',\n",
    "           'East Asian Languages and Cultures': '#b80fde',\n",
    "           'Ecology, Evolution and Marine Biology': '#d072b8',\n",
    "           'Ecology, Evolution, and Marine Biology': '#d072b8',\n",
    "           'Economics': '#66528a',\n",
    "           'Education': '#d6f5d0',\n",
    "           'Education - Gevirtz Graduate School': '#d6f5d0',\n",
    "           'Education, Joint Program Cal Poly SLO': '#d6f5d0',\n",
    "           'Electrical and Computer Engineering': '#809e7a',\n",
    "           'English': '#896d7f',\n",
    "           'Environmental Science and Management': '#b65bb2',\n",
    "           'Feminist Studies': '#324fa2',\n",
    "           'Film and Media Studies': '#c8a339',\n",
    "           'French': '#50f506',\n",
    "           'French and Italian': '#d917f7',\n",
    "           'Geography': '#ed7a6f',\n",
    "           'Geography, Joint Program SDSU': '#ed7a6f',\n",
    "           'Geological Sciences': '#556e62', \n",
    "           'Global and International Studies': '#db8a79',\n",
    "           'Global Studies': '#db8a79',\n",
    "           'History': '#ffdead',\n",
    "           'Latin American and Iberian Studies': '#02f6ac',\n",
    "           'Linguistics': '#953b0b',\n",
    "           'Marine Science': '#e8a577',\n",
    "           'Materials': '#fcb377',\n",
    "           'Mathematics': '#134fd6',\n",
    "           'Mechanical Engineering': '#ce4212',\n",
    "           'Media Arts and Technology': '#caa34f',\n",
    "           'Molecular, Cellular, and Developmental Biology': '#9f3a81', \n",
    "           'Music': '#e93d28', \n",
    "           'California Polytechnic State University. Education, Joint Program Cal Poly SLO': '#d6f5d0', \n",
    "           'San Diego State University. Geography':  '#ed7a6f',\n",
    "           'Philosophy': '#5892d9',\n",
    "           'Physics': '#8f7ca1',\n",
    "           'Political Science': '#f79bc8',\n",
    "           'Psychological and Brain Sciences': '#fcffd6',\n",
    "           'Psychology': '#fcffd6',\n",
    "           'Religious Studies': '#92f1e3',\n",
    "           'Sociology': '#9c8667', \n",
    "           'Spanish': '#aac42f', \n",
    "           'Spanish and Portuguese': '#dbb629',\n",
    "           'Statistics and Applied Probability': '#085342',\n",
    "           'Theater and Dance': '#fdac48',\n",
    "           'Theater Studies': '#fdac48'\n",
    "          }"
   ]
  },
  {
   "cell_type": "code",
   "execution_count": null,
   "metadata": {},
   "outputs": [],
   "source": [
    "# Mapping the dictionary keys to the data frame. \n",
    "df2_top_5['colours'] = df2_top_5['Department'].map(val_map_col) \n",
    "df2_top_5['colours1'] = df2_top_5['Department1'].map(val_map_col) "
   ]
  },
  {
   "cell_type": "code",
   "execution_count": null,
   "metadata": {},
   "outputs": [],
   "source": [
    "top_topic_net_full = net.Network(height=\"750px\", width=\"100%\", bgcolor=\"#222222\", font_color=\"white\", notebook=True)\n",
    "\n",
    "# set the physics layout of the network\n",
    "top_topic_net_full.barnes_hut()\n",
    "top_topic_data = df2_top_5\n",
    "\n",
    "sources = top_topic_data['title']\n",
    "targets = top_topic_data['title1']\n",
    "source_weight = top_topic_data['weight'].values*1000 \n",
    "target_weight = top_topic_data['weight1'].values*1000 \n",
    "source_department = top_topic_data['Department']\n",
    "target_department = top_topic_data['Department1']\n",
    "source_colour = top_topic_data['colours']\n",
    "target_colour = top_topic_data['colours1']\n",
    "\n",
    "\n",
    "edge_data = zip(sources, targets, source_weight, target_weight, source_department, target_department, source_colour, target_colour)\n",
    "\n",
    "for e in edge_data:\n",
    "    src = e[0]\n",
    "    dst = e[1]\n",
    "    src_w = e[2]\n",
    "    tar_w = e[3]\n",
    "    src_dep = e[4]\n",
    "    tar_dep = e[5]\n",
    "    src_col = e[6]\n",
    "    tar_col = e[7]\n",
    "\n",
    "    top_topic_net_full.add_node(src, src, title=src_dep, color = src_col, value = src_w+100000000)\n",
    "    top_topic_net_full.add_node(dst, dst, title=tar_dep, color = tar_col, value = tar_w+100000000)\n",
    "    top_topic_net_full.add_edge(src, dst, value=src_w)\n",
    "    \n",
    "neighbor_map = top_topic_net_full.get_adj_list()\n",
    "\n",
    "# add neighbor data to node hover data\n",
    "for node in top_topic_net_full.nodes:\n",
    "    node[\"title\"] += \" Neighbors:<br>\" + \"<br>\".join(neighbor_map[node[\"id\"]])\n",
    "    node[\"value\"] = len(neighbor_map[node[\"id\"]])\n",
    "    print(node[\"title\"])\n",
    "    \n",
    "top_topic_net_full.show(\"full_network.html\")"
   ]
  }
 ],
 "metadata": {
  "kernelspec": {
   "display_name": "Python 3",
   "language": "python",
   "name": "python3"
  },
  "language_info": {
   "codemirror_mode": {
    "name": "ipython",
    "version": 3
   },
   "file_extension": ".py",
   "mimetype": "text/x-python",
   "name": "python",
   "nbconvert_exporter": "python",
   "pygments_lexer": "ipython3",
   "version": "3.7.4"
  }
 },
 "nbformat": 4,
 "nbformat_minor": 2
}
